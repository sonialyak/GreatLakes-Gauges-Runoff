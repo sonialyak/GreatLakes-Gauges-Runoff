{
 "cells": [
  {
   "cell_type": "code",
   "execution_count": null,
   "id": "eb60617b-ebb4-49d2-8473-1d18440ef7c3",
   "metadata": {},
   "outputs": [],
   "source": [
    "import pandas as pd\n",
    "import numpy as np\n",
    "from dataretrieval import nwis, utils, codes\n",
    "import matplotlib.pyplot as plt\n",
    "import dataretrieval.nwis as nwis\n",
    "import statsmodels.api as sm\n",
    "import matplotlib.dates as mdates\n",
    "import os\n",
    "import csv\n",
    "import requests\n",
    "\n",
    "#Some of the above are unnecessary"
   ]
  },
  {
   "cell_type": "code",
   "execution_count": null,
   "id": "655971b1-e944-4b34-b99b-49881d8da9d1",
   "metadata": {},
   "outputs": [],
   "source": [
    "#Canada data\n",
    "\n",
    "# Define the directory where you want to save the file\n",
    "save_directory = './data/Great_Lakes'  # Example path in Jupyter environment\n",
    "\n",
    "# Ensure the directory exists\n",
    "os.makedirs(save_directory, exist_ok=True)\n",
    "\n",
    "\n",
    "for i in ca_sites:\n",
    "\n",
    "    # URL of the CSV data\n",
    "    url = 'https://wateroffice.ec.gc.ca/services/daily_data/csv/inline?stations[]='+i+'&parameters[]=level&parameters[]=flow&start_date=1950-10-01&end_date=2024-10-01'  # Replace with your actual URL\n",
    "    \n",
    "    try:\n",
    "        # Send a GET request\n",
    "        response = requests.get(url)\n",
    "        response.raise_for_status()  # Raise an error for bad responses\n",
    "\n",
    "        # Complete file path\n",
    "        file_path = os.path.join(save_directory, i + '.csv')\n",
    "    \n",
    "        # Open a file in write mode to save the CSV data\n",
    "        with open(file_path, 'w', newline='', encoding='utf-8-sig') as csv_file:\n",
    "            csv_file.write(response.text)\n",
    "    \n",
    "        print(\"CSV data has been successfully downloaded and saved\")\n",
    "    \n",
    "    except requests.exceptions.HTTPError as err:\n",
    "        print(f\"HTTP error occurred: {err}\")\n",
    "    except Exception as e:\n",
    "        print(f\"An error occurred: {e}\")"
   ]
  }
 ],
 "metadata": {
  "kernelspec": {
   "display_name": "Python 3 (ipykernel)",
   "language": "python",
   "name": "python3"
  },
  "language_info": {
   "codemirror_mode": {
    "name": "ipython",
    "version": 3
   },
   "file_extension": ".py",
   "mimetype": "text/x-python",
   "name": "python",
   "nbconvert_exporter": "python",
   "pygments_lexer": "ipython3",
   "version": "3.12.7"
  }
 },
 "nbformat": 4,
 "nbformat_minor": 5
}
